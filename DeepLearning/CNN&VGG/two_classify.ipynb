{
 "cells": [
  {
   "cell_type": "code",
   "execution_count": 1,
   "metadata": {},
   "outputs": [
    {
     "name": "stderr",
     "output_type": "stream",
     "text": [
      "Using TensorFlow backend.\n"
     ]
    },
    {
     "name": "stdout",
     "output_type": "stream",
     "text": [
      "Downloading data from https://s3.amazonaws.com/img-datasets/mnist.npz\n",
      "11493376/11490434 [==============================] - 76s 7us/step\n",
      "11501568/11490434 [==============================] - 76s 7us/step\n"
     ]
    }
   ],
   "source": [
    "from __future__ import print_function\n",
    "\n",
    "import keras\n",
    "from keras.datasets import mnist\n",
    "from keras.models import Sequential\n",
    "from keras.layers import Dense\n",
    "from keras.models import load_model  \n",
    "from keras.optimizers import RMSprop\n",
    "#导入mnist 数据集\n",
    "from keras.datasets import mnist   \n",
    "import matplotlib.pyplot as plt  \n",
    "\n",
    "(x_train, y_train), (x_test, y_test) = mnist.load_data() "
   ]
  },
  {
   "cell_type": "code",
   "execution_count": 2,
   "metadata": {},
   "outputs": [
    {
     "name": "stdout",
     "output_type": "stream",
     "text": [
      "60000 train samples\n",
      "10000 test samples\n"
     ]
    }
   ],
   "source": [
    "#因为keras的输入为张量，所以28x28的shape为(784,)\n",
    "x_train = x_train.reshape(60000, 784)\n",
    "\n",
    "x_test = x_test.reshape(10000, 784)\n",
    "#循环遍历label集合，若某一类的标签不为1，则改为0（即将不是1的标签全部置位0，认为他们是一类）\n",
    "for i, el in enumerate(y_train):\n",
    "    if el!=1:\n",
    "        y_train[i]=0\n",
    "for i, el in enumerate(y_test):\n",
    "    if el!=1:\n",
    "        y_test[i]=0    \n",
    "x_train = x_train.astype('float32')\n",
    "x_test = x_test.astype('float32')\n",
    "#除以255，把数据正则化到0~1之间\n",
    "x_train /= 255\n",
    "x_test /= 255\n",
    "#查看一下数据大小\n",
    "print(x_train.shape[0], 'train samples')\n",
    "print(x_test.shape[0], 'test samples')\n",
    "\n",
    "#label为0或1共2个类别，keras要求格式为binary class matrices,转化一下，直接调用keras提供的这个函数\n",
    "num_classes = 2\n",
    "y_train = keras.utils.to_categorical(y_train, num_classes)\n",
    "y_test = keras.utils.to_categorical(y_test, num_classes)"
   ]
  },
  {
   "cell_type": "code",
   "execution_count": 3,
   "metadata": {},
   "outputs": [
    {
     "name": "stdout",
     "output_type": "stream",
     "text": [
      "WARNING:tensorflow:From /usr/lib/python2.7/site-packages/tensorflow/python/framework/op_def_library.py:263: colocate_with (from tensorflow.python.framework.ops) is deprecated and will be removed in a future version.\n",
      "Instructions for updating:\n",
      "Colocations handled automatically by placer.\n",
      "_________________________________________________________________\n",
      "Layer (type)                 Output Shape              Param #   \n",
      "=================================================================\n",
      "dense_1 (Dense)              (None, 2)                 1570      \n",
      "=================================================================\n",
      "Total params: 1,570\n",
      "Trainable params: 1,570\n",
      "Non-trainable params: 0\n",
      "_________________________________________________________________\n"
     ]
    }
   ],
   "source": [
    "#构建一个sequential模型（即多个网络层的线性堆叠）\n",
    "model = Sequential()\n",
    "#模型需要知道输入数据的shape，因此，Sequential的第一层需要接受一个关于输入数据shape的参数，后面的各个层则可以自动的推导出中间数据的shape，因此不需要为每个层都指定这个参数。本层输出维度为2\n",
    "#本层为softmax层，用于最后的分类\n",
    "model.add(Dense(2, activation='softmax', input_shape=(784,)))\n",
    "#打印出模型概况\n",
    "model.summary()\n",
    "#见上方参数介绍\n",
    "model.compile(loss='categorical_crossentropy',\n",
    "              optimizer=RMSprop(),\n",
    "              metrics=['accuracy'])"
   ]
  },
  {
   "cell_type": "code",
   "execution_count": 4,
   "metadata": {},
   "outputs": [
    {
     "name": "stdout",
     "output_type": "stream",
     "text": [
      "WARNING:tensorflow:From /usr/lib/python2.7/site-packages/tensorflow/python/ops/math_ops.py:3066: to_int32 (from tensorflow.python.ops.math_ops) is deprecated and will be removed in a future version.\n",
      "Instructions for updating:\n",
      "Use tf.cast instead.\n",
      "Train on 48000 samples, validate on 12000 samples\n",
      "Epoch 1/2\n",
      "48000/48000 [==============================] - 8s 165us/step - loss: 0.0772 - acc: 0.9744 - val_loss: 0.0305 - val_acc: 0.9913\n",
      "Epoch 2/2\n",
      "48000/48000 [==============================] - 2s 50us/step - loss: 0.0339 - acc: 0.9903 - val_loss: 0.0268 - val_acc: 0.9928\n"
     ]
    }
   ],
   "source": [
    "#一次前向传播的图片数量\n",
    "batch_size = 128\n",
    "#所有图片训练的次数\n",
    "epochs = 2\n",
    "#model.fit即开始训练\n",
    "#shuffle 为打乱数据集\n",
    "#validation_split=0.2表示从训练集中抽取20%做为验证集\n",
    "history = model.fit(x_train, y_train,\n",
    "                    batch_size=batch_size,\n",
    "                    epochs=epochs,\n",
    "                    shuffle=True,\n",
    "                    validation_split=0.2,\n",
    "                    verbose=1)\n",
    "#保存模型\n",
    "model.save('my_model1.h5')"
   ]
  },
  {
   "cell_type": "code",
   "execution_count": 5,
   "metadata": {},
   "outputs": [
    {
     "name": "stdout",
     "output_type": "stream",
     "text": [
      "Test loss: 0.02417141635119915\n",
      "Test accuracy: 0.994\n"
     ]
    }
   ],
   "source": [
    "#加载刚刚训练好的模型\n",
    "model = load_model('my_model1.h5')\n",
    "#model. evaluate即开始测试\n",
    "score = model.evaluate(x_test, y_test, verbose=0)\n",
    "print('Test loss:', score[0])\n",
    "print('Test accuracy:', score[1])"
   ]
  },
  {
   "cell_type": "code",
   "execution_count": 6,
   "metadata": {},
   "outputs": [
    {
     "data": {
      "image/svg+xml": [
       "<svg height=\"120pt\" viewBox=\"0.00 0.00 126.00 120.00\" width=\"126pt\" xmlns=\"http://www.w3.org/2000/svg\" xmlns:xlink=\"http://www.w3.org/1999/xlink\">\n",
       "<g class=\"graph\" id=\"graph0\" transform=\"scale(1 1) rotate(0) translate(4 116)\">\n",
       "<title>G</title>\n",
       "<polygon fill=\"white\" points=\"-4,5 -4,-116 123,-116 123,5 -4,5\" stroke=\"white\"/>\n",
       "<!-- 139849263588560 -->\n",
       "<g class=\"node\" id=\"node1\"><title>139849263588560</title>\n",
       "<polygon fill=\"none\" points=\"8,-1 8,-37 110,-37 110,-1 8,-1\" stroke=\"black\"/>\n",
       "<text font-family=\"Times,serif\" font-size=\"14.00\" text-anchor=\"middle\" x=\"59\" y=\"-15.3\">dense_1: Dense</text>\n",
       "</g>\n",
       "<!-- 139849263588048 -->\n",
       "<g class=\"node\" id=\"node2\"><title>139849263588048</title>\n",
       "<polygon fill=\"none\" points=\"0,-75 0,-111 118,-111 118,-75 0,-75\" stroke=\"black\"/>\n",
       "<text font-family=\"Times,serif\" font-size=\"14.00\" text-anchor=\"middle\" x=\"59\" y=\"-89.3\">139849263588048</text>\n",
       "</g>\n",
       "<!-- 139849263588048&#45;&gt;139849263588560 -->\n",
       "<g class=\"edge\" id=\"edge1\"><title>139849263588048-&gt;139849263588560</title>\n",
       "<path d=\"M59,-74.937C59,-66.8072 59,-56.8761 59,-47.7047\" fill=\"none\" stroke=\"black\"/>\n",
       "<polygon fill=\"black\" points=\"62.5001,-47.4406 59,-37.4407 55.5001,-47.4407 62.5001,-47.4406\" stroke=\"black\"/>\n",
       "</g>\n",
       "</g>\n",
       "</svg>"
      ],
      "text/plain": [
       "<IPython.core.display.SVG object>"
      ]
     },
     "execution_count": 6,
     "metadata": {},
     "output_type": "execute_result"
    }
   ],
   "source": [
    "from IPython.display import SVG\n",
    "from keras.utils.vis_utils import model_to_dot\n",
    "SVG(model_to_dot(model).create(prog='dot', format='svg'))"
   ]
  },
  {
   "cell_type": "code",
   "execution_count": null,
   "metadata": {},
   "outputs": [],
   "source": []
  }
 ],
 "metadata": {
  "kernelspec": {
   "display_name": "Python 2",
   "language": "python",
   "name": "python2"
  },
  "language_info": {
   "codemirror_mode": {
    "name": "ipython",
    "version": 2
   },
   "file_extension": ".py",
   "mimetype": "text/x-python",
   "name": "python",
   "nbconvert_exporter": "python",
   "pygments_lexer": "ipython2",
   "version": "2.7.5"
  }
 },
 "nbformat": 4,
 "nbformat_minor": 2
}
