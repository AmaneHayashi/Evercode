{
 "cells": [
  {
   "cell_type": "code",
   "execution_count": 1,
   "metadata": {},
   "outputs": [
    {
     "name": "stderr",
     "output_type": "stream",
     "text": [
      "Using TensorFlow backend.\n"
     ]
    },
    {
     "name": "stdout",
     "output_type": "stream",
     "text": [
      "WARNING:tensorflow:From /usr/lib/python2.7/site-packages/tensorflow/python/framework/op_def_library.py:263: colocate_with (from tensorflow.python.framework.ops) is deprecated and will be removed in a future version.\n",
      "Instructions for updating:\n",
      "Colocations handled automatically by placer.\n",
      "WARNING:tensorflow:From /usr/lib/python2.7/site-packages/tensorflow/python/ops/math_ops.py:3066: to_int32 (from tensorflow.python.ops.math_ops) is deprecated and will be removed in a future version.\n",
      "Instructions for updating:\n",
      "Use tf.cast instead.\n",
      "Train on 54000 samples, validate on 6000 samples\n",
      "Epoch 1/5\n",
      "54000/54000 [==============================] - 20s 377us/step - loss: 2.2937 - acc: 0.1341 - val_loss: 2.2835 - val_acc: 0.1323\n",
      "Epoch 2/5\n",
      "54000/54000 [==============================] - 22s 399us/step - loss: 2.2721 - acc: 0.1540 - val_loss: 2.2563 - val_acc: 0.1650\n",
      "Epoch 3/5\n",
      "54000/54000 [==============================] - 22s 409us/step - loss: 2.2360 - acc: 0.2104 - val_loss: 2.2063 - val_acc: 0.2575\n",
      "Epoch 4/5\n",
      "54000/54000 [==============================] - 24s 440us/step - loss: 2.1737 - acc: 0.2767 - val_loss: 2.1274 - val_acc: 0.3077\n",
      "Epoch 5/5\n",
      "54000/54000 [==============================] - 23s 425us/step - loss: 2.0873 - acc: 0.3128 - val_loss: 2.0331 - val_acc: 0.3250\n",
      "10000/10000 [==============================] - 2s 225us/step\n",
      "loss: 2.038662\n",
      "accuracy : 0.322400\n"
     ]
    }
   ],
   "source": [
    "import numpy as np\n",
    "from keras.utils import np_utils\n",
    "from keras.layers import Dense\n",
    "from keras.models import Sequential\n",
    "from keras.optimizers import SGD\n",
    "\n",
    "with np.load('/lib/python2.7/site-packages/tensorflow/examples/mnist.npz') as f:\n",
    "    x_train, y_train = f['x_train'], f['y_train']\n",
    "    x_test, y_test = f['x_test'], f['y_test']\n",
    "    \n",
    "x_train = x_train.reshape([-1, 784]) / 255\n",
    "x_test = x_test.reshape([-1, 784]) / 255\n",
    "y_train = np_utils.to_categorical(y_train, num_classes = 10)\n",
    "y_test = np_utils.to_categorical(y_test, num_classes = 10)\n",
    "\n",
    "model = Sequential()\n",
    "\n",
    "model.add(Dense(512, activation='relu', input_shape=[784]))\n",
    "model.add(Dense(256, activation='relu'))\n",
    "model.add(Dense(128, activation='relu'))\n",
    "model.add(Dense(10, activation='softmax'))\n",
    "\n",
    "model.compile(optimizer=SGD(lr=0.01), loss='categorical_crossentropy',\n",
    "              metrics=['accuracy'])\n",
    "model.fit(x_train, y_train, batch_size = 64, epochs = 5, validation_split = 0.1)\n",
    "\n",
    "loss, acc = model.evaluate(x_test, y_test)\n",
    "print('loss: %f\\naccuracy : %f' %(loss, acc))"
   ]
  },
  {
   "cell_type": "code",
   "execution_count": null,
   "metadata": {},
   "outputs": [],
   "source": []
  }
 ],
 "metadata": {
  "kernelspec": {
   "display_name": "Python 2",
   "language": "python",
   "name": "python2"
  },
  "language_info": {
   "codemirror_mode": {
    "name": "ipython",
    "version": 2
   },
   "file_extension": ".py",
   "mimetype": "text/x-python",
   "name": "python",
   "nbconvert_exporter": "python",
   "pygments_lexer": "ipython2",
   "version": "2.7.5"
  }
 },
 "nbformat": 4,
 "nbformat_minor": 2
}
